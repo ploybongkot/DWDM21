{
  "nbformat": 4,
  "nbformat_minor": 0,
  "metadata": {
    "colab": {
      "name": "MiniExam.ipynb",
      "provenance": [],
      "include_colab_link": true
    },
    "kernelspec": {
      "name": "python3",
      "display_name": "Python 3"
    },
    "language_info": {
      "name": "python"
    }
  },
  "cells": [
    {
      "cell_type": "markdown",
      "metadata": {
        "id": "view-in-github",
        "colab_type": "text"
      },
      "source": [
        "<a href=\"https://colab.research.google.com/github/ploybongkot/DWDM21/blob/main/MiniExam.ipynb\" target=\"_parent\"><img src=\"https://colab.research.google.com/assets/colab-badge.svg\" alt=\"Open In Colab\"/></a>"
      ]
    },
    {
      "cell_type": "markdown",
      "metadata": {
        "id": "iPx-P2JWSAwz"
      },
      "source": [
        "### ข้อสอบ\n",
        "\n",
        "จาก data ```flights.csv``` และ ```airports.csv``` ใน https://drive.google.com/drive/folders/1EFo1_uQgWkRiXjezL0T4YwteYrsqU5MV?usp=sharing\n",
        "0. หารัฐที่มีจำนวนเครื่องบินขาเข้ามากที่สุดและน้อยที่สุด\n",
        "1. หารัฐที่มีจำนวนเครื่องบินขาออกมากที่สุดและน้อยที่สุด\n",
        "2. วาด Histogram แสดงจำนวนเครื่องบินขาออกของแต่ละวันในสัปดาห์\n",
        "3. สายการบินไหนมีเที่ยวบินมากที่สุดและน้อยที่สุด\n",
        "4. สายการบินอะไรมีความล่าช้ามากที่สุดและน้อยที่สุด\n",
        "5. ช่วงเช้าหรือช่วงบ่ายมีเครื่องบินขาเข้ามากกว่ากัน\n",
        "\n",
        "ให้นักศึกษาทำข้อสอบ 2 ข้อจากที่แสดงข้างบนโดยกรอกรหัสนักศึกษาลงใน function ```gen_exams()``` แล้ว run เพื่อให้ได้ข้อสอบที่นักศึกษาต้องทำ 2 ข้อ (ข้อละ 3 คะแนน)\n",
        "และให้นักศึกษาคิดโจทย์เองอีก 1 ข้อ (4 คะแนน)\n"
      ]
    },
    {
      "cell_type": "code",
      "metadata": {
        "id": "ZfBK6J_JOObY"
      },
      "source": [
        "import pandas as pd"
      ],
      "execution_count": 1,
      "outputs": []
    },
    {
      "cell_type": "code",
      "metadata": {
        "colab": {
          "base_uri": "https://localhost:8080/"
        },
        "id": "FtfT3pF0PL2x",
        "outputId": "bae5205f-c9d4-46b0-bf88-46cc67f0ded0"
      },
      "source": [
        "from google.colab import drive \n",
        "drive.mount('/content/drive')"
      ],
      "execution_count": 2,
      "outputs": [
        {
          "output_type": "stream",
          "name": "stdout",
          "text": [
            "Mounted at /content/drive\n"
          ]
        }
      ]
    },
    {
      "cell_type": "code",
      "metadata": {
        "id": "XhB2n7PAPPfr"
      },
      "source": [
        "import os"
      ],
      "execution_count": 3,
      "outputs": []
    },
    {
      "cell_type": "code",
      "metadata": {
        "colab": {
          "base_uri": "https://localhost:8080/",
          "height": 424
        },
        "id": "rDBac0rqPpVY",
        "outputId": "9eac1ee1-d83f-472f-9874-46554bc3042b"
      },
      "source": [
        "flights = pd.read_csv('/content/drive/MyDrive/DWDM2021_DATA/Mini Exam/flights.csv')\n",
        "flights"
      ],
      "execution_count": 8,
      "outputs": [
        {
          "output_type": "execute_result",
          "data": {
            "text/html": [
              "<div>\n",
              "<style scoped>\n",
              "    .dataframe tbody tr th:only-of-type {\n",
              "        vertical-align: middle;\n",
              "    }\n",
              "\n",
              "    .dataframe tbody tr th {\n",
              "        vertical-align: top;\n",
              "    }\n",
              "\n",
              "    .dataframe thead th {\n",
              "        text-align: right;\n",
              "    }\n",
              "</style>\n",
              "<table border=\"1\" class=\"dataframe\">\n",
              "  <thead>\n",
              "    <tr style=\"text-align: right;\">\n",
              "      <th></th>\n",
              "      <th>วันในเดือน</th>\n",
              "      <th>วันในสัปดาห์</th>\n",
              "      <th>สายการบิน</th>\n",
              "      <th>รหัสสนามบินต้นทาง</th>\n",
              "      <th>รหัสสนามบินปลายทาง</th>\n",
              "      <th>ความล่าช้าขาออก</th>\n",
              "      <th>ความล่าช้าขาเข้า</th>\n",
              "    </tr>\n",
              "  </thead>\n",
              "  <tbody>\n",
              "    <tr>\n",
              "      <th>0</th>\n",
              "      <td>19</td>\n",
              "      <td>5</td>\n",
              "      <td>DL</td>\n",
              "      <td>11433</td>\n",
              "      <td>13303</td>\n",
              "      <td>-3</td>\n",
              "      <td>1</td>\n",
              "    </tr>\n",
              "    <tr>\n",
              "      <th>1</th>\n",
              "      <td>19</td>\n",
              "      <td>5</td>\n",
              "      <td>DL</td>\n",
              "      <td>14869</td>\n",
              "      <td>12478</td>\n",
              "      <td>0</td>\n",
              "      <td>-8</td>\n",
              "    </tr>\n",
              "    <tr>\n",
              "      <th>2</th>\n",
              "      <td>19</td>\n",
              "      <td>5</td>\n",
              "      <td>DL</td>\n",
              "      <td>14057</td>\n",
              "      <td>14869</td>\n",
              "      <td>-4</td>\n",
              "      <td>-15</td>\n",
              "    </tr>\n",
              "    <tr>\n",
              "      <th>3</th>\n",
              "      <td>19</td>\n",
              "      <td>5</td>\n",
              "      <td>DL</td>\n",
              "      <td>15016</td>\n",
              "      <td>11433</td>\n",
              "      <td>28</td>\n",
              "      <td>24</td>\n",
              "    </tr>\n",
              "    <tr>\n",
              "      <th>4</th>\n",
              "      <td>19</td>\n",
              "      <td>5</td>\n",
              "      <td>DL</td>\n",
              "      <td>11193</td>\n",
              "      <td>12892</td>\n",
              "      <td>-6</td>\n",
              "      <td>-11</td>\n",
              "    </tr>\n",
              "    <tr>\n",
              "      <th>...</th>\n",
              "      <td>...</td>\n",
              "      <td>...</td>\n",
              "      <td>...</td>\n",
              "      <td>...</td>\n",
              "      <td>...</td>\n",
              "      <td>...</td>\n",
              "      <td>...</td>\n",
              "    </tr>\n",
              "    <tr>\n",
              "      <th>2702213</th>\n",
              "      <td>19</td>\n",
              "      <td>6</td>\n",
              "      <td>DL</td>\n",
              "      <td>13204</td>\n",
              "      <td>14869</td>\n",
              "      <td>1</td>\n",
              "      <td>-3</td>\n",
              "    </tr>\n",
              "    <tr>\n",
              "      <th>2702214</th>\n",
              "      <td>19</td>\n",
              "      <td>6</td>\n",
              "      <td>DL</td>\n",
              "      <td>10397</td>\n",
              "      <td>13495</td>\n",
              "      <td>-2</td>\n",
              "      <td>-3</td>\n",
              "    </tr>\n",
              "    <tr>\n",
              "      <th>2702215</th>\n",
              "      <td>19</td>\n",
              "      <td>6</td>\n",
              "      <td>DL</td>\n",
              "      <td>10140</td>\n",
              "      <td>10397</td>\n",
              "      <td>18</td>\n",
              "      <td>9</td>\n",
              "    </tr>\n",
              "    <tr>\n",
              "      <th>2702216</th>\n",
              "      <td>19</td>\n",
              "      <td>6</td>\n",
              "      <td>DL</td>\n",
              "      <td>10397</td>\n",
              "      <td>13244</td>\n",
              "      <td>10</td>\n",
              "      <td>7</td>\n",
              "    </tr>\n",
              "    <tr>\n",
              "      <th>2702217</th>\n",
              "      <td>19</td>\n",
              "      <td>6</td>\n",
              "      <td>DL</td>\n",
              "      <td>10397</td>\n",
              "      <td>13487</td>\n",
              "      <td>0</td>\n",
              "      <td>-13</td>\n",
              "    </tr>\n",
              "  </tbody>\n",
              "</table>\n",
              "<p>2702218 rows × 7 columns</p>\n",
              "</div>"
            ],
            "text/plain": [
              "         วันในเดือน  วันในสัปดาห์  ... ความล่าช้าขาออก  ความล่าช้าขาเข้า\n",
              "0                19             5  ...              -3                 1\n",
              "1                19             5  ...               0                -8\n",
              "2                19             5  ...              -4               -15\n",
              "3                19             5  ...              28                24\n",
              "4                19             5  ...              -6               -11\n",
              "...             ...           ...  ...             ...               ...\n",
              "2702213          19             6  ...               1                -3\n",
              "2702214          19             6  ...              -2                -3\n",
              "2702215          19             6  ...              18                 9\n",
              "2702216          19             6  ...              10                 7\n",
              "2702217          19             6  ...               0               -13\n",
              "\n",
              "[2702218 rows x 7 columns]"
            ]
          },
          "metadata": {},
          "execution_count": 8
        }
      ]
    },
    {
      "cell_type": "code",
      "metadata": {
        "colab": {
          "base_uri": "https://localhost:8080/",
          "height": 424
        },
        "id": "jmidVX90P1lF",
        "outputId": "6c67e1d2-8f16-4f41-e427-6a2b4ba40720"
      },
      "source": [
        "airports = pd.read_csv('/content/drive/MyDrive/DWDM2021_DATA/Mini Exam/airports.csv')\n",
        "airports"
      ],
      "execution_count": 9,
      "outputs": [
        {
          "output_type": "execute_result",
          "data": {
            "text/html": [
              "<div>\n",
              "<style scoped>\n",
              "    .dataframe tbody tr th:only-of-type {\n",
              "        vertical-align: middle;\n",
              "    }\n",
              "\n",
              "    .dataframe tbody tr th {\n",
              "        vertical-align: top;\n",
              "    }\n",
              "\n",
              "    .dataframe thead th {\n",
              "        text-align: right;\n",
              "    }\n",
              "</style>\n",
              "<table border=\"1\" class=\"dataframe\">\n",
              "  <thead>\n",
              "    <tr style=\"text-align: right;\">\n",
              "      <th></th>\n",
              "      <th>รหัสสนามบิน</th>\n",
              "      <th>เมือง</th>\n",
              "      <th>รัฐ</th>\n",
              "      <th>ชื่อสนามบิน</th>\n",
              "    </tr>\n",
              "  </thead>\n",
              "  <tbody>\n",
              "    <tr>\n",
              "      <th>0</th>\n",
              "      <td>10165</td>\n",
              "      <td>Adak Island</td>\n",
              "      <td>AK</td>\n",
              "      <td>Adak</td>\n",
              "    </tr>\n",
              "    <tr>\n",
              "      <th>1</th>\n",
              "      <td>10299</td>\n",
              "      <td>Anchorage</td>\n",
              "      <td>AK</td>\n",
              "      <td>Ted Stevens Anchorage International</td>\n",
              "    </tr>\n",
              "    <tr>\n",
              "      <th>2</th>\n",
              "      <td>10304</td>\n",
              "      <td>Aniak</td>\n",
              "      <td>AK</td>\n",
              "      <td>Aniak Airport</td>\n",
              "    </tr>\n",
              "    <tr>\n",
              "      <th>3</th>\n",
              "      <td>10754</td>\n",
              "      <td>Barrow</td>\n",
              "      <td>AK</td>\n",
              "      <td>Wiley Post/Will Rogers Memorial</td>\n",
              "    </tr>\n",
              "    <tr>\n",
              "      <th>4</th>\n",
              "      <td>10551</td>\n",
              "      <td>Bethel</td>\n",
              "      <td>AK</td>\n",
              "      <td>Bethel Airport</td>\n",
              "    </tr>\n",
              "    <tr>\n",
              "      <th>...</th>\n",
              "      <td>...</td>\n",
              "      <td>...</td>\n",
              "      <td>...</td>\n",
              "      <td>...</td>\n",
              "    </tr>\n",
              "    <tr>\n",
              "      <th>360</th>\n",
              "      <td>11233</td>\n",
              "      <td>Cheyenne</td>\n",
              "      <td>WY</td>\n",
              "      <td>Cheyenne Regional/Jerry Olson Field</td>\n",
              "    </tr>\n",
              "    <tr>\n",
              "      <th>361</th>\n",
              "      <td>11097</td>\n",
              "      <td>Cody</td>\n",
              "      <td>WY</td>\n",
              "      <td>Yellowstone Regional</td>\n",
              "    </tr>\n",
              "    <tr>\n",
              "      <th>362</th>\n",
              "      <td>11865</td>\n",
              "      <td>Gillette</td>\n",
              "      <td>WY</td>\n",
              "      <td>Gillette Campbell County</td>\n",
              "    </tr>\n",
              "    <tr>\n",
              "      <th>363</th>\n",
              "      <td>12441</td>\n",
              "      <td>Jackson</td>\n",
              "      <td>WY</td>\n",
              "      <td>Jackson Hole</td>\n",
              "    </tr>\n",
              "    <tr>\n",
              "      <th>364</th>\n",
              "      <td>14543</td>\n",
              "      <td>Rock Springs</td>\n",
              "      <td>WY</td>\n",
              "      <td>Rock Springs Sweetwater County</td>\n",
              "    </tr>\n",
              "  </tbody>\n",
              "</table>\n",
              "<p>365 rows × 4 columns</p>\n",
              "</div>"
            ],
            "text/plain": [
              "     รหัสสนามบิน         เมือง รัฐ                          ชื่อสนามบิน\n",
              "0          10165   Adak Island  AK                                 Adak\n",
              "1          10299     Anchorage  AK  Ted Stevens Anchorage International\n",
              "2          10304         Aniak  AK                        Aniak Airport\n",
              "3          10754        Barrow  AK      Wiley Post/Will Rogers Memorial\n",
              "4          10551        Bethel  AK                       Bethel Airport\n",
              "..           ...           ...  ..                                  ...\n",
              "360        11233      Cheyenne  WY  Cheyenne Regional/Jerry Olson Field\n",
              "361        11097          Cody  WY                 Yellowstone Regional\n",
              "362        11865      Gillette  WY             Gillette Campbell County\n",
              "363        12441       Jackson  WY                         Jackson Hole\n",
              "364        14543  Rock Springs  WY       Rock Springs Sweetwater County\n",
              "\n",
              "[365 rows x 4 columns]"
            ]
          },
          "metadata": {},
          "execution_count": 9
        }
      ]
    },
    {
      "cell_type": "code",
      "metadata": {
        "id": "9vzby99vRVDH"
      },
      "source": [
        "def gen_exams(ID):\n",
        "    import math\n",
        "    a = int(ID[-1])%6\n",
        "    b = int(ID[-1])%3\n",
        "    print(f'รหัสนักศึกษา {ID} ทำข้อ {a} และ {b if a != b else 5-b}')"
      ],
      "execution_count": 10,
      "outputs": []
    },
    {
      "cell_type": "markdown",
      "metadata": {
        "id": "SRkSOtmhbv5G"
      },
      "source": [
        "ตัวอย่างการ run"
      ]
    },
    {
      "cell_type": "code",
      "metadata": {
        "colab": {
          "base_uri": "https://localhost:8080/"
        },
        "id": "zQQAtm8fZPYE",
        "outputId": "283fd3f7-f62c-4722-9926-b871d116b8d4"
      },
      "source": [
        "gen_exams('62123456-9')"
      ],
      "execution_count": 11,
      "outputs": [
        {
          "output_type": "stream",
          "name": "stdout",
          "text": [
            "รหัสนักศึกษา 62123456-9 ทำข้อ 3 และ 0\n"
          ]
        }
      ]
    },
    {
      "cell_type": "code",
      "metadata": {
        "id": "P7jNlxWHZTCp",
        "outputId": "cf3a7da1-7eb1-4e1d-d61b-edd629aeb677",
        "colab": {
          "base_uri": "https://localhost:8080/"
        }
      },
      "source": [
        "gen_exams('623021051-4')"
      ],
      "execution_count": 12,
      "outputs": [
        {
          "output_type": "stream",
          "name": "stdout",
          "text": [
            "รหัสนักศึกษา 623021051-4 ทำข้อ 4 และ 1\n"
          ]
        }
      ]
    },
    {
      "cell_type": "markdown",
      "metadata": {
        "id": "8BaLTXySXszl"
      },
      "source": [
        "จากการ run รหัสนักศึกษาได้ทำข้อสอบข้อ 4 และ 1\n",
        "\n"
      ]
    },
    {
      "cell_type": "code",
      "metadata": {
        "id": "nub3PDm0hPLB",
        "outputId": "f50d9c0b-fe86-4409-8e43-f0bdf364074d",
        "colab": {
          "base_uri": "https://localhost:8080/",
          "height": 475
        }
      },
      "source": [
        "merged_table = flights.merge(airports,how='left',left_on='รหัสสนามบินต้นทาง',right_on='รหัสสนามบิน') ## รวม 2 ตารางเข้าด้วยกัน\n",
        "merged_table"
      ],
      "execution_count": 13,
      "outputs": [
        {
          "output_type": "execute_result",
          "data": {
            "text/html": [
              "<div>\n",
              "<style scoped>\n",
              "    .dataframe tbody tr th:only-of-type {\n",
              "        vertical-align: middle;\n",
              "    }\n",
              "\n",
              "    .dataframe tbody tr th {\n",
              "        vertical-align: top;\n",
              "    }\n",
              "\n",
              "    .dataframe thead th {\n",
              "        text-align: right;\n",
              "    }\n",
              "</style>\n",
              "<table border=\"1\" class=\"dataframe\">\n",
              "  <thead>\n",
              "    <tr style=\"text-align: right;\">\n",
              "      <th></th>\n",
              "      <th>วันในเดือน</th>\n",
              "      <th>วันในสัปดาห์</th>\n",
              "      <th>สายการบิน</th>\n",
              "      <th>รหัสสนามบินต้นทาง</th>\n",
              "      <th>รหัสสนามบินปลายทาง</th>\n",
              "      <th>ความล่าช้าขาออก</th>\n",
              "      <th>ความล่าช้าขาเข้า</th>\n",
              "      <th>รหัสสนามบิน</th>\n",
              "      <th>เมือง</th>\n",
              "      <th>รัฐ</th>\n",
              "      <th>ชื่อสนามบิน</th>\n",
              "    </tr>\n",
              "  </thead>\n",
              "  <tbody>\n",
              "    <tr>\n",
              "      <th>0</th>\n",
              "      <td>19</td>\n",
              "      <td>5</td>\n",
              "      <td>DL</td>\n",
              "      <td>11433</td>\n",
              "      <td>13303</td>\n",
              "      <td>-3</td>\n",
              "      <td>1</td>\n",
              "      <td>11433</td>\n",
              "      <td>Detroit</td>\n",
              "      <td>MI</td>\n",
              "      <td>Detroit Metro Wayne County</td>\n",
              "    </tr>\n",
              "    <tr>\n",
              "      <th>1</th>\n",
              "      <td>19</td>\n",
              "      <td>5</td>\n",
              "      <td>DL</td>\n",
              "      <td>14869</td>\n",
              "      <td>12478</td>\n",
              "      <td>0</td>\n",
              "      <td>-8</td>\n",
              "      <td>14869</td>\n",
              "      <td>Salt Lake City</td>\n",
              "      <td>UT</td>\n",
              "      <td>Salt Lake City International</td>\n",
              "    </tr>\n",
              "    <tr>\n",
              "      <th>2</th>\n",
              "      <td>19</td>\n",
              "      <td>5</td>\n",
              "      <td>DL</td>\n",
              "      <td>14057</td>\n",
              "      <td>14869</td>\n",
              "      <td>-4</td>\n",
              "      <td>-15</td>\n",
              "      <td>14057</td>\n",
              "      <td>Portland</td>\n",
              "      <td>OR</td>\n",
              "      <td>Portland International</td>\n",
              "    </tr>\n",
              "    <tr>\n",
              "      <th>3</th>\n",
              "      <td>19</td>\n",
              "      <td>5</td>\n",
              "      <td>DL</td>\n",
              "      <td>15016</td>\n",
              "      <td>11433</td>\n",
              "      <td>28</td>\n",
              "      <td>24</td>\n",
              "      <td>15016</td>\n",
              "      <td>St. Louis</td>\n",
              "      <td>MO</td>\n",
              "      <td>Lambert-St. Louis International</td>\n",
              "    </tr>\n",
              "    <tr>\n",
              "      <th>4</th>\n",
              "      <td>19</td>\n",
              "      <td>5</td>\n",
              "      <td>DL</td>\n",
              "      <td>11193</td>\n",
              "      <td>12892</td>\n",
              "      <td>-6</td>\n",
              "      <td>-11</td>\n",
              "      <td>11193</td>\n",
              "      <td>Cincinnati</td>\n",
              "      <td>OH</td>\n",
              "      <td>Cincinnati/Northern Kentucky International</td>\n",
              "    </tr>\n",
              "    <tr>\n",
              "      <th>...</th>\n",
              "      <td>...</td>\n",
              "      <td>...</td>\n",
              "      <td>...</td>\n",
              "      <td>...</td>\n",
              "      <td>...</td>\n",
              "      <td>...</td>\n",
              "      <td>...</td>\n",
              "      <td>...</td>\n",
              "      <td>...</td>\n",
              "      <td>...</td>\n",
              "      <td>...</td>\n",
              "    </tr>\n",
              "    <tr>\n",
              "      <th>2702213</th>\n",
              "      <td>19</td>\n",
              "      <td>6</td>\n",
              "      <td>DL</td>\n",
              "      <td>13204</td>\n",
              "      <td>14869</td>\n",
              "      <td>1</td>\n",
              "      <td>-3</td>\n",
              "      <td>13204</td>\n",
              "      <td>Orlando</td>\n",
              "      <td>FL</td>\n",
              "      <td>Orlando International</td>\n",
              "    </tr>\n",
              "    <tr>\n",
              "      <th>2702214</th>\n",
              "      <td>19</td>\n",
              "      <td>6</td>\n",
              "      <td>DL</td>\n",
              "      <td>10397</td>\n",
              "      <td>13495</td>\n",
              "      <td>-2</td>\n",
              "      <td>-3</td>\n",
              "      <td>10397</td>\n",
              "      <td>Atlanta</td>\n",
              "      <td>GA</td>\n",
              "      <td>Hartsfield-Jackson Atlanta International</td>\n",
              "    </tr>\n",
              "    <tr>\n",
              "      <th>2702215</th>\n",
              "      <td>19</td>\n",
              "      <td>6</td>\n",
              "      <td>DL</td>\n",
              "      <td>10140</td>\n",
              "      <td>10397</td>\n",
              "      <td>18</td>\n",
              "      <td>9</td>\n",
              "      <td>10140</td>\n",
              "      <td>Albuquerque</td>\n",
              "      <td>NM</td>\n",
              "      <td>Albuquerque International Sunport</td>\n",
              "    </tr>\n",
              "    <tr>\n",
              "      <th>2702216</th>\n",
              "      <td>19</td>\n",
              "      <td>6</td>\n",
              "      <td>DL</td>\n",
              "      <td>10397</td>\n",
              "      <td>13244</td>\n",
              "      <td>10</td>\n",
              "      <td>7</td>\n",
              "      <td>10397</td>\n",
              "      <td>Atlanta</td>\n",
              "      <td>GA</td>\n",
              "      <td>Hartsfield-Jackson Atlanta International</td>\n",
              "    </tr>\n",
              "    <tr>\n",
              "      <th>2702217</th>\n",
              "      <td>19</td>\n",
              "      <td>6</td>\n",
              "      <td>DL</td>\n",
              "      <td>10397</td>\n",
              "      <td>13487</td>\n",
              "      <td>0</td>\n",
              "      <td>-13</td>\n",
              "      <td>10397</td>\n",
              "      <td>Atlanta</td>\n",
              "      <td>GA</td>\n",
              "      <td>Hartsfield-Jackson Atlanta International</td>\n",
              "    </tr>\n",
              "  </tbody>\n",
              "</table>\n",
              "<p>2702218 rows × 11 columns</p>\n",
              "</div>"
            ],
            "text/plain": [
              "         วันในเดือน  ...                                 ชื่อสนามบิน\n",
              "0                19  ...                  Detroit Metro Wayne County\n",
              "1                19  ...                Salt Lake City International\n",
              "2                19  ...                      Portland International\n",
              "3                19  ...             Lambert-St. Louis International\n",
              "4                19  ...  Cincinnati/Northern Kentucky International\n",
              "...             ...  ...                                         ...\n",
              "2702213          19  ...                       Orlando International\n",
              "2702214          19  ...    Hartsfield-Jackson Atlanta International\n",
              "2702215          19  ...           Albuquerque International Sunport\n",
              "2702216          19  ...    Hartsfield-Jackson Atlanta International\n",
              "2702217          19  ...    Hartsfield-Jackson Atlanta International\n",
              "\n",
              "[2702218 rows x 11 columns]"
            ]
          },
          "metadata": {},
          "execution_count": 13
        }
      ]
    },
    {
      "cell_type": "markdown",
      "metadata": {
        "id": "DqOQTM6Srd9x"
      },
      "source": [
        "ข้อ 4 สายการบินอะไรมีความล่าช้ามากที่สุดและน้อยที่สุด"
      ]
    },
    {
      "cell_type": "code",
      "metadata": {
        "id": "fbv0n3OFr0NI",
        "outputId": "295d41f1-4c61-46e4-961f-aa1f8cea5e2c",
        "colab": {
          "base_uri": "https://localhost:8080/",
          "height": 112
        }
      },
      "source": [
        "max2_1 = merged_table.groupby('สายการบิน').max().sort_values(by=['ความล่าช้าขาออก'],ascending=False) ## หาสายการบินที่มีความล่าช้าขาออกมากที่สุด\n",
        "max2_1.iloc[:1,4:5] ## ตัดเอาแค่คอลัมน์สายการบินและคอลัมน์ความล่าช้าขาออก"
      ],
      "execution_count": 23,
      "outputs": [
        {
          "output_type": "execute_result",
          "data": {
            "text/html": [
              "<div>\n",
              "<style scoped>\n",
              "    .dataframe tbody tr th:only-of-type {\n",
              "        vertical-align: middle;\n",
              "    }\n",
              "\n",
              "    .dataframe tbody tr th {\n",
              "        vertical-align: top;\n",
              "    }\n",
              "\n",
              "    .dataframe thead th {\n",
              "        text-align: right;\n",
              "    }\n",
              "</style>\n",
              "<table border=\"1\" class=\"dataframe\">\n",
              "  <thead>\n",
              "    <tr style=\"text-align: right;\">\n",
              "      <th></th>\n",
              "      <th>ความล่าช้าขาออก</th>\n",
              "    </tr>\n",
              "    <tr>\n",
              "      <th>สายการบิน</th>\n",
              "      <th></th>\n",
              "    </tr>\n",
              "  </thead>\n",
              "  <tbody>\n",
              "    <tr>\n",
              "      <th>AA</th>\n",
              "      <td>1863</td>\n",
              "    </tr>\n",
              "  </tbody>\n",
              "</table>\n",
              "</div>"
            ],
            "text/plain": [
              "           ความล่าช้าขาออก\n",
              "สายการบิน                 \n",
              "AA                    1863"
            ]
          },
          "metadata": {},
          "execution_count": 23
        }
      ]
    },
    {
      "cell_type": "markdown",
      "metadata": {
        "id": "QNCsBCHruT7S"
      },
      "source": [
        "สายการบิน AA มีความล่าช้าขาออกมากที่สุด คือ 1863"
      ]
    },
    {
      "cell_type": "code",
      "metadata": {
        "id": "S72tZ1fHr41O",
        "outputId": "35fca2db-4e5c-41ee-e3b1-9c805020de1e",
        "colab": {
          "base_uri": "https://localhost:8080/",
          "height": 112
        }
      },
      "source": [
        "max2_2 = merged_table.groupby('สายการบิน').max().sort_values(by=['ความล่าช้าขาเข้า'],ascending=False) ## หาสายการบินที่มีความล่าช้าขาเข้าน้อยที่สุด\n",
        "max2_2.iloc[:1,5:6] ## ตัดเอาแค่คอลัมน์สายการบินและคอลัมน์ความล่าช้าขาเข้า"
      ],
      "execution_count": 24,
      "outputs": [
        {
          "output_type": "execute_result",
          "data": {
            "text/html": [
              "<div>\n",
              "<style scoped>\n",
              "    .dataframe tbody tr th:only-of-type {\n",
              "        vertical-align: middle;\n",
              "    }\n",
              "\n",
              "    .dataframe tbody tr th {\n",
              "        vertical-align: top;\n",
              "    }\n",
              "\n",
              "    .dataframe thead th {\n",
              "        text-align: right;\n",
              "    }\n",
              "</style>\n",
              "<table border=\"1\" class=\"dataframe\">\n",
              "  <thead>\n",
              "    <tr style=\"text-align: right;\">\n",
              "      <th></th>\n",
              "      <th>ความล่าช้าขาเข้า</th>\n",
              "    </tr>\n",
              "    <tr>\n",
              "      <th>สายการบิน</th>\n",
              "      <th></th>\n",
              "    </tr>\n",
              "  </thead>\n",
              "  <tbody>\n",
              "    <tr>\n",
              "      <th>HA</th>\n",
              "      <td>1845</td>\n",
              "    </tr>\n",
              "  </tbody>\n",
              "</table>\n",
              "</div>"
            ],
            "text/plain": [
              "           ความล่าช้าขาเข้า\n",
              "สายการบิน                  \n",
              "HA                     1845"
            ]
          },
          "metadata": {},
          "execution_count": 24
        }
      ]
    },
    {
      "cell_type": "markdown",
      "metadata": {
        "id": "GGjWCd6XuiMg"
      },
      "source": [
        "สายการบิน HA มีความล่าช้าขาออกน้อยที่สุด คือ 1845"
      ]
    },
    {
      "cell_type": "markdown",
      "metadata": {
        "id": "pYGNeKCPvBI5"
      },
      "source": [
        "1. หารัฐที่มีจำนวนเครื่องบินขาออกมากที่สุดและน้อยที่สุด"
      ]
    },
    {
      "cell_type": "code",
      "metadata": {
        "id": "5-bPSQ1GvULd",
        "outputId": "0cdcae2b-e9ad-4424-d051-73ba8f57962b",
        "colab": {
          "base_uri": "https://localhost:8080/",
          "height": 112
        }
      },
      "source": [
        "max = merged_table.groupby('รัฐ').count().sort_values(by=['รหัสสนามบินปลายทาง'],ascending=False)  ## หารัฐที่มีจำนวนเครื่องบินขาออกมากสุด \n",
        "max.iloc[:1,4:5] ## ตัดเอาแค่คอลัมน์รัฐและคอลัมน์สนามบินปลายทาง"
      ],
      "execution_count": 28,
      "outputs": [
        {
          "output_type": "execute_result",
          "data": {
            "text/html": [
              "<div>\n",
              "<style scoped>\n",
              "    .dataframe tbody tr th:only-of-type {\n",
              "        vertical-align: middle;\n",
              "    }\n",
              "\n",
              "    .dataframe tbody tr th {\n",
              "        vertical-align: top;\n",
              "    }\n",
              "\n",
              "    .dataframe thead th {\n",
              "        text-align: right;\n",
              "    }\n",
              "</style>\n",
              "<table border=\"1\" class=\"dataframe\">\n",
              "  <thead>\n",
              "    <tr style=\"text-align: right;\">\n",
              "      <th></th>\n",
              "      <th>รหัสสนามบินปลายทาง</th>\n",
              "    </tr>\n",
              "    <tr>\n",
              "      <th>รัฐ</th>\n",
              "      <th></th>\n",
              "    </tr>\n",
              "  </thead>\n",
              "  <tbody>\n",
              "    <tr>\n",
              "      <th>CA</th>\n",
              "      <td>380046</td>\n",
              "    </tr>\n",
              "  </tbody>\n",
              "</table>\n",
              "</div>"
            ],
            "text/plain": [
              "     รหัสสนามบินปลายทาง\n",
              "รัฐ                    \n",
              "CA               380046"
            ]
          },
          "metadata": {},
          "execution_count": 28
        }
      ]
    },
    {
      "cell_type": "markdown",
      "metadata": {
        "id": "Vg6UMI5Yvo5V"
      },
      "source": [
        "รัฐที่มีจำนวนเครื่องบินขาออกมากที่สุดคือรัฐ CA คือ 380046"
      ]
    },
    {
      "cell_type": "code",
      "metadata": {
        "id": "DWIKDuyhvXi4",
        "outputId": "19e0d9e1-1e82-4a67-8b38-d9a568784356",
        "colab": {
          "base_uri": "https://localhost:8080/",
          "height": 112
        }
      },
      "source": [
        "min = merged_table.groupby('รัฐ').count().sort_values(by=['รหัสสนามบินปลายทาง'],ascending=False) ## หารัฐที่มีจำนวนเครื่องบินขาออกน้อยสุด \n",
        "min.iloc[-1:,4:5] ## ตัดเอาแค่คอลัมน์รัฐและคอลัมน์สนามบินปลายทาง"
      ],
      "execution_count": 29,
      "outputs": [
        {
          "output_type": "execute_result",
          "data": {
            "text/html": [
              "<div>\n",
              "<style scoped>\n",
              "    .dataframe tbody tr th:only-of-type {\n",
              "        vertical-align: middle;\n",
              "    }\n",
              "\n",
              "    .dataframe tbody tr th {\n",
              "        vertical-align: top;\n",
              "    }\n",
              "\n",
              "    .dataframe thead th {\n",
              "        text-align: right;\n",
              "    }\n",
              "</style>\n",
              "<table border=\"1\" class=\"dataframe\">\n",
              "  <thead>\n",
              "    <tr style=\"text-align: right;\">\n",
              "      <th></th>\n",
              "      <th>รหัสสนามบินปลายทาง</th>\n",
              "    </tr>\n",
              "    <tr>\n",
              "      <th>รัฐ</th>\n",
              "      <th></th>\n",
              "    </tr>\n",
              "  </thead>\n",
              "  <tbody>\n",
              "    <tr>\n",
              "      <th>AK</th>\n",
              "      <td>7700</td>\n",
              "    </tr>\n",
              "  </tbody>\n",
              "</table>\n",
              "</div>"
            ],
            "text/plain": [
              "     รหัสสนามบินปลายทาง\n",
              "รัฐ                    \n",
              "AK                 7700"
            ]
          },
          "metadata": {},
          "execution_count": 29
        }
      ]
    },
    {
      "cell_type": "code",
      "metadata": {
        "id": "r7sSrjlvv15q"
      },
      "source": [
        "รัฐที่มีจำนวนเครื่องบินขาออกน้อยที่สุดคือรัฐ AK คือ 7700"
      ],
      "execution_count": null,
      "outputs": []
    }
  ]
}
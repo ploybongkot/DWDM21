{
  "nbformat": 4,
  "nbformat_minor": 0,
  "metadata": {
    "colab": {
      "name": "Data Visualization.ipynb",
      "provenance": [],
      "authorship_tag": "ABX9TyOK1H0MaMN5dc9xqcaMevd/",
      "include_colab_link": true
    },
    "kernelspec": {
      "name": "python3",
      "display_name": "Python 3"
    },
    "language_info": {
      "name": "python"
    }
  },
  "cells": [
    {
      "cell_type": "markdown",
      "metadata": {
        "id": "view-in-github",
        "colab_type": "text"
      },
      "source": [
        "<a href=\"https://colab.research.google.com/github/ploybongkot/DWDM21/blob/main/Data_Visualization.ipynb\" target=\"_parent\"><img src=\"https://colab.research.google.com/assets/colab-badge.svg\" alt=\"Open In Colab\"/></a>"
      ]
    },
    {
      "cell_type": "code",
      "metadata": {
        "id": "pck0tsxwBUAA"
      },
      "source": [
        "import pandas as pd # ทำงานกับข้อมูลลักษณะตาราง"
      ],
      "execution_count": 1,
      "outputs": []
    },
    {
      "cell_type": "code",
      "metadata": {
        "colab": {
          "base_uri": "https://localhost:8080/"
        },
        "id": "Zujdw9SsBc4D",
        "outputId": "99fef725-ea8b-48fc-c38b-6d73e36c253f"
      },
      "source": [
        "from google.colab import drive # เชื่อมกับ google drive \n",
        "drive.mount('/content/drive')"
      ],
      "execution_count": 2,
      "outputs": [
        {
          "output_type": "stream",
          "text": [
            "Mounted at /content/drive\n"
          ],
          "name": "stdout"
        }
      ]
    },
    {
      "cell_type": "code",
      "metadata": {
        "id": "uZMFQr-gBpNz"
      },
      "source": [
        "import os # จัดการไฟล์และ path(ที่อยู่ของไฟล์)"
      ],
      "execution_count": 3,
      "outputs": []
    },
    {
      "cell_type": "code",
      "metadata": {
        "id": "TnFAJbZBBzKL"
      },
      "source": [
        "path = '/content/drive/My Drive/DWDM2021_DATA' # ที่อยู่ไฟล์ของเรา\n",
        "data_cases = pd.read_csv(os.path.join(path,'thailand_covid-19_testing_data_update140864.csv'))# โหลด data เข้ามา\n",
        "data_cases"
      ],
      "execution_count": null,
      "outputs": []
    },
    {
      "cell_type": "code",
      "metadata": {
        "id": "pGyXyOcHShc0"
      },
      "source": [
        "data = data_covid.iloc[1:,:3]\n",
        "data"
      ],
      "execution_count": null,
      "outputs": []
    },
    {
      "cell_type": "markdown",
      "metadata": {
        "id": "FhJm4MYFS0Pg"
      },
      "source": [
        "# Visualization\n",
        "\n",
        "\n",
        "*   Box plot (อยู่ใน data preprocessing)\n",
        "*   Scatter plot \n",
        "*   Plot\n",
        "*   Bar chart\n",
        "*   Histogram"
      ]
    },
    {
      "cell_type": "code",
      "metadata": {
        "id": "nUSIKSBFS-_r"
      },
      "source": [
        "from matplotlib import pyplot as plt"
      ],
      "execution_count": null,
      "outputs": []
    },
    {
      "cell_type": "markdown",
      "metadata": {
        "id": "xmKI_KSmTDx7"
      },
      "source": [
        "### Scatter plot\n",
        "\n",
        "https://matplotlib.org/stable/api/_as_gen/matplotlib.pyplot.scatter.html"
      ]
    },
    {
      "cell_type": "code",
      "metadata": {
        "id": "I8fnhs6wTF7p"
      },
      "source": [
        "list(range(len(data.iloc[-20:,1])))"
      ],
      "execution_count": null,
      "outputs": []
    },
    {
      "cell_type": "code",
      "metadata": {
        "id": "eU4lX09qTJq6"
      },
      "source": [
        "data.iloc[-20:,1]"
      ],
      "execution_count": null,
      "outputs": []
    },
    {
      "cell_type": "code",
      "metadata": {
        "id": "LQizvpOHTMQa"
      },
      "source": [
        "plt.scatter(range(len(data.iloc[-20:,1])),data.iloc[-20:,1]) ## ใช้ค่า default"
      ],
      "execution_count": null,
      "outputs": []
    },
    {
      "cell_type": "code",
      "metadata": {
        "id": "7XKw3QAXTOlJ"
      },
      "source": [
        "plt.scatter(range(len(data.iloc[-20:,1])),data.iloc[-20:,1],s=100)"
      ],
      "execution_count": null,
      "outputs": []
    },
    {
      "cell_type": "code",
      "metadata": {
        "id": "7UOrZJAGTQ2A"
      },
      "source": [
        "plt.scatter(range(len(data.iloc[::50,1])),data.iloc[::50,1],s=0.03*data.iloc[::50,2])"
      ],
      "execution_count": null,
      "outputs": []
    },
    {
      "cell_type": "code",
      "metadata": {
        "id": "7FEXbROHTTgA"
      },
      "source": [
        "plt.scatter(range(len(data.iloc[::50,1])),data.iloc[::50,1],s=0.03*data.iloc[::50,2],c='r') ## colors : r g b c m y k w"
      ],
      "execution_count": null,
      "outputs": []
    },
    {
      "cell_type": "code",
      "metadata": {
        "id": "Sju_RDETTc8i"
      },
      "source": [
        "plt.scatter(range(len(data.iloc[::50,1])),data.iloc[::50,1],s=0.03*data.iloc[::50,2],c=['r','r','r','g','g','g','b','b','b','c','m','k']) ## colors : r g b c m y k w"
      ],
      "execution_count": null,
      "outputs": []
    },
    {
      "cell_type": "code",
      "metadata": {
        "id": "1zfXekeTTm8q"
      },
      "source": [
        "plt.scatter(range(len(data.iloc[::50,1])),data.iloc[::50,1],s=0.03*data.iloc[::50,2],c=[[1.,0.5,0]]) ## rgb [[r,g,b]] r,g,b = [0-1]"
      ],
      "execution_count": null,
      "outputs": []
    },
    {
      "cell_type": "code",
      "metadata": {
        "id": "zBRQFvo6Tq-R"
      },
      "source": [
        "plt.scatter(range(len(data.iloc[::50,1])),data.iloc[::50,1],s=0.03*data.iloc[::50,2],c=[[1.,0.2,0]]) ## rgb"
      ],
      "execution_count": null,
      "outputs": []
    },
    {
      "cell_type": "code",
      "metadata": {
        "id": "je_R0TueTy_Q"
      },
      "source": [
        "plt.scatter(range(len(data.iloc[::50,1])),data.iloc[::50,1],s=300,c=0.03*data.iloc[::50,2]) ## ใช้ค่าตัวเลข"
      ],
      "execution_count": null,
      "outputs": []
    },
    {
      "cell_type": "markdown",
      "metadata": {
        "id": "CG5X_jMpT6xn"
      },
      "source": [
        "cmap https://matplotlib.org/stable/tutorials/colors/colormaps.html"
      ]
    },
    {
      "cell_type": "code",
      "metadata": {
        "id": "HYftaRsfUB8g"
      },
      "source": [
        "plt.scatter(range(len(data.iloc[::50,1])),data.iloc[::50,1],s=300,c=0.03*data.iloc[::50,2],cmap='YlOrRd') ## ใช้ค่าตัวเลข + cmap"
      ],
      "execution_count": null,
      "outputs": []
    },
    {
      "cell_type": "code",
      "metadata": {
        "id": "VeCl_-OxUGT4"
      },
      "source": [
        "plt.scatter(range(len(data.iloc[::50,1])),data.iloc[::50,1],s=300,c=0.03*data.iloc[::50,2],cmap='YlOrRd',marker='d') ## หน้าตา marker"
      ],
      "execution_count": null,
      "outputs": []
    },
    {
      "cell_type": "code",
      "metadata": {
        "id": "oHNXwba3UKSZ"
      },
      "source": [
        "plt.scatter(range(len(data.iloc[::50,1])),data.iloc[::50,1],s=300,c=0.03*data.iloc[::50,2],cmap='YlOrRd',marker='$z$') ## หน้าตา marker แบบกำหนดเอง"
      ],
      "execution_count": null,
      "outputs": []
    },
    {
      "cell_type": "code",
      "metadata": {
        "id": "AW9GB6xCUPfQ"
      },
      "source": [
        "plt.scatter(range(len(data.iloc[::50,1])),data.iloc[::50,1],s=5500,c=[[1.,0.5,0]],alpha =0.5) ## กำหนดความโปร่งแสง"
      ],
      "execution_count": null,
      "outputs": []
    },
    {
      "cell_type": "markdown",
      "metadata": {
        "id": "YC4OMsO0UTHg"
      },
      "source": [
        "### Plot\n",
        "https://matplotlib.org/stable/api/_as_gen/matplotlib.pyplot.plot.html"
      ]
    },
    {
      "cell_type": "code",
      "metadata": {
        "id": "26Q7qndQUUsB"
      },
      "source": [
        "plt.plot(range(len(data.iloc[::50,1])),data.iloc[::50,1])"
      ],
      "execution_count": null,
      "outputs": []
    },
    {
      "cell_type": "code",
      "metadata": {
        "id": "xjKIwo2zUYEq"
      },
      "source": [
        "plt.plot(range(len(data.iloc[::50,1])),data.iloc[::50,1],'P')"
      ],
      "execution_count": null,
      "outputs": []
    },
    {
      "cell_type": "code",
      "metadata": {
        "id": "s1dEi_IFUaOw"
      },
      "source": [
        "plt.plot(range(len(data.iloc[::50,1])),data.iloc[::50,1],'P:g')"
      ],
      "execution_count": null,
      "outputs": []
    },
    {
      "cell_type": "markdown",
      "metadata": {
        "id": "P1F7J1HVUdmQ"
      },
      "source": [
        "Quiz กลุ่ม III วาดกราฟที่มี marker เป็น สี่เหลี่ยมจัตุรัส เส้นเป็น เส้นประสลับจุดไข่ปลา สีฟ้าอ่อน"
      ]
    },
    {
      "cell_type": "markdown",
      "metadata": {
        "id": "rNvcWcGgUiAJ"
      },
      "source": [
        "### Bar chart"
      ]
    },
    {
      "cell_type": "markdown",
      "metadata": {
        "id": "mZBxBUk_UmKw"
      },
      "source": [
        "#### Grouped Barchart"
      ]
    },
    {
      "cell_type": "code",
      "metadata": {
        "id": "Yecd9lAsUqsQ"
      },
      "source": [
        "import numpy as np\n",
        "\n",
        "\n",
        "labels = ['G1', 'G2', 'G3', 'G4', 'G5']\n",
        "men_means = [20, 34, 30, 35, 27]\n",
        "women_means = [25, 32, 34, 20, 2"
      ],
      "execution_count": null,
      "outputs": []
    },
    {
      "cell_type": "code",
      "metadata": {
        "id": "SmiNWf3WUsMQ"
      },
      "source": [
        "plt.bar([0,1,2,3,4],men_means)"
      ],
      "execution_count": null,
      "outputs": []
    },
    {
      "cell_type": "code",
      "metadata": {
        "id": "8xUaasyOUvGY"
      },
      "source": [
        "plt.bar([0,1,2,3,4],men_means)\n",
        "plt.bar([0,1,2,3,4],women_means)"
      ],
      "execution_count": null,
      "outputs": []
    },
    {
      "cell_type": "code",
      "metadata": {
        "id": "t9_K2wUFUzjn"
      },
      "source": [
        "width =0.35\n",
        "\n",
        "plt.bar(np.array([0,1,2,3,4]) - width/2, men_means, width=width)\n",
        "plt.bar(np.array([0,1,2,3,4]) + width/2, women_means, width=width)"
      ],
      "execution_count": null,
      "outputs": []
    },
    {
      "cell_type": "code",
      "metadata": {
        "id": "Pd2Znw7vU2FX"
      },
      "source": [
        "width =0.35\n",
        "\n",
        "plt.bar(np.array([0,1,2,3,4]) - width/2, men_means, width=width, label = 'men')\n",
        "plt.bar(np.array([0,1,2,3,4]) + width/2, women_means, width=width, label = 'women')\n",
        "\n",
        "plt.legend()"
      ],
      "execution_count": null,
      "outputs": []
    },
    {
      "cell_type": "code",
      "metadata": {
        "id": "8JbEeShuU8o4"
      },
      "source": [
        "width =0.35\n",
        "\n",
        "plt.bar(np.array([0,1,2,3,4]) - width/2, men_means, width=width, label = 'men')\n",
        "plt.bar(np.array([0,1,2,3,4]) + width/2, women_means, width=width, label = 'women')\n",
        "\n",
        "plt.ylabel('Scores')\n",
        "plt.title('Scores by group and gender')\n",
        "plt.xticks([0,1,2,3,4],labels)\n",
        "plt.legend();"
      ],
      "execution_count": null,
      "outputs": []
    },
    {
      "cell_type": "code",
      "metadata": {
        "id": "lhEPFnP2U-8p"
      },
      "source": [
        "data.iloc[-30:,1:]"
      ],
      "execution_count": null,
      "outputs": []
    },
    {
      "cell_type": "code",
      "metadata": {
        "id": "3tBYjxUcVBg_"
      },
      "source": [
        "np.arange(len(data.iloc[-30:,1]))"
      ],
      "execution_count": null,
      "outputs": []
    },
    {
      "cell_type": "code",
      "metadata": {
        "id": "te7LD6MmVFRR"
      },
      "source": [
        "width =0.35\n",
        "\n",
        "plt.bar(np.arange(len(data.iloc[-30:,1])) - width/2, data.iloc[-30:,1], width=width, label = 'positive')\n",
        "plt.bar(np.arange(len(data.iloc[-30:,1])) + width/2, data.iloc[-30:,2], width=width, label = 'total testing')\n",
        "\n",
        "plt.ylabel('#Cases')\n",
        "plt.title('Compare postive vs total testing')\n",
        "plt.xticks(np.arange(len(data.iloc[-30:,1]))+1.1,data.iloc[-30:,0],rotation=-45)\n",
        "plt.legend();"
      ],
      "execution_count": null,
      "outputs": []
    },
    {
      "cell_type": "markdown",
      "metadata": {
        "id": "Wqzemu4cVH23"
      },
      "source": [
        "#### Stacked Barchart"
      ]
    },
    {
      "cell_type": "code",
      "metadata": {
        "id": "ECU0kDl2VKLw"
      },
      "source": [
        "labels = ['G1', 'G2', 'G3', 'G4', 'G5']\n",
        "men_means = [20, 34, 30, 35, 27]\n",
        "women_means = [25, 32, 34, 20, 25]"
      ],
      "execution_count": null,
      "outputs": []
    },
    {
      "cell_type": "code",
      "metadata": {
        "id": "xcafcuQEVOv_"
      },
      "source": [
        "plt.bar(np.array([0,1,2,3,4]), men_means, label = 'men')\n",
        "plt.bar(np.array([0,1,2,3,4]), women_means, bottom=men_means, label = 'women')\n",
        "\n",
        "plt.legend()"
      ],
      "execution_count": null,
      "outputs": []
    },
    {
      "cell_type": "code",
      "metadata": {
        "id": "qcejuO9FVQNQ"
      },
      "source": [
        "plt.bar(np.array([0,1,2,3,4]), men_means, label = 'men')"
      ],
      "execution_count": null,
      "outputs": []
    },
    {
      "cell_type": "code",
      "metadata": {
        "id": "tEx0WGaYVUyn"
      },
      "source": [
        "plt.bar(np.array([0,1,2,3,4]), women_means, bottom=men_means, label = 'women')"
      ],
      "execution_count": null,
      "outputs": []
    },
    {
      "cell_type": "markdown",
      "metadata": {
        "id": "5v-7AI8zVXgc"
      },
      "source": [
        "### Histogram"
      ]
    },
    {
      "cell_type": "code",
      "metadata": {
        "id": "jMnVS3g3VZu5"
      },
      "source": [
        "mu, sigma = 100, 15\n",
        "x = mu + sigma * np.random.randn(20)\n",
        "x"
      ],
      "execution_count": null,
      "outputs": []
    },
    {
      "cell_type": "code",
      "metadata": {
        "id": "reCgYr_PVeLq"
      },
      "source": [
        "# Fixing random state for reproducibility\n",
        "np.random.seed(19680801) #จุดให้มันเริ่ม random -> seed = 19680801\n",
        "\n",
        "# the histogram of the data\n",
        "n, bins, patches = plt.hist(x, 10, facecolor='g', alpha=0.5)\n",
        "\n",
        "\n",
        "plt.xlabel('Smarts')\n",
        "plt.ylabel('Probability')\n",
        "plt.title('Histogram of IQ')\n",
        "\n",
        "plt.grid(True)\n",
        "plt.show()"
      ],
      "execution_count": null,
      "outputs": []
    },
    {
      "cell_type": "code",
      "metadata": {
        "id": "_et2WSxXVgVp"
      },
      "source": [
        "bins"
      ],
      "execution_count": null,
      "outputs": []
    },
    {
      "cell_type": "code",
      "metadata": {
        "id": "W69h6uvrVjti"
      },
      "source": [
        "n"
      ],
      "execution_count": null,
      "outputs": []
    }
  ]
}